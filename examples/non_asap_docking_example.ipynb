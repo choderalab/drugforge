{
 "cells": [
  {
   "cell_type": "markdown",
   "source": [
    "# Docking with a non-asap target"
   ],
   "metadata": {
    "collapsed": false
   },
   "id": "b5fbf8702d1d75a3"
  },
  {
   "cell_type": "markdown",
   "source": [
    "The `protein.pdb` https://github.com/openforcefield/protein-ligand-benchmark/blob/main/data/tyk2/01_protein/crd/protein.pdb \n",
    "and `ligands.sdf` https://github.com/openforcefield/protein-ligand-benchmark/blob/main/data/tyk2/02_ligands/ligands.sdf\n",
    "for tyk2 were downloaded from the Open Force Field protein-ligand benchmark repository."
   ],
   "metadata": {
    "collapsed": false
   },
   "id": "43f626fd2bca6c47"
  },
  {
   "cell_type": "code",
   "outputs": [],
   "source": [
    "from drugforge.data.schema.target import Target\n",
    "from drugforge.data.schema.complex import Complex\n",
    "from drugforge.data.schema.ligand import Ligand\n",
    "from drugforge.data.readers.molfile import MolFileFactory\n",
    "from drugforge.modeling.modeling import make_du_from_new_lig"
   ],
   "metadata": {
    "collapsed": false
   },
   "id": "38b0f73bebd3541",
   "execution_count": null
  },
  {
   "cell_type": "code",
   "outputs": [],
   "source": [
    "make_du_from_new_lig?"
   ],
   "metadata": {
    "collapsed": false
   },
   "id": "5cd880ce12be692e",
   "execution_count": null
  },
  {
   "cell_type": "markdown",
   "source": [
    "We're going to use the first ligand"
   ],
   "metadata": {
    "collapsed": false
   },
   "id": "6e14b2696e5d55de"
  },
  {
   "cell_type": "code",
   "outputs": [],
   "source": [
    "t = Target.from_pdb(\"protein.pdb\", target_name='tyk2')\n",
    "ligands = MolFileFactory(filename=\"ligands.sdf\").load()"
   ],
   "metadata": {
    "collapsed": false
   },
   "id": "725f028b7581806d",
   "execution_count": null
  },
  {
   "cell_type": "code",
   "outputs": [],
   "source": [
    "t"
   ],
   "metadata": {
    "collapsed": false
   },
   "id": "1fc53375307b8d38",
   "execution_count": null
  },
  {
   "cell_type": "code",
   "outputs": [],
   "source": [
    "ligands[0]"
   ],
   "metadata": {
    "collapsed": false
   },
   "id": "7905d1222f00d956",
   "execution_count": null
  },
  {
   "cell_type": "code",
   "outputs": [],
   "source": [
    "len(ligands)"
   ],
   "metadata": {
    "collapsed": false
   },
   "id": "b806ea2c82b67e7c",
   "execution_count": null
  },
  {
   "cell_type": "markdown",
   "source": [
    "Combine the first ligand with the target to create a complex"
   ],
   "metadata": {
    "collapsed": false
   },
   "id": "56ef016319cd6349"
  },
  {
   "cell_type": "code",
   "outputs": [],
   "source": [
    "ligand = ligands[0]"
   ],
   "metadata": {
    "collapsed": false
   },
   "id": "bc703dcf87dbd748",
   "execution_count": null
  },
  {
   "cell_type": "code",
   "outputs": [],
   "source": [
    "c = Complex(target=t, ligand=ligand)"
   ],
   "metadata": {
    "collapsed": false
   },
   "id": "c0feb2db197048a",
   "execution_count": null
  },
  {
   "cell_type": "markdown",
   "source": [
    "Write to pdb file"
   ],
   "metadata": {
    "collapsed": false
   },
   "id": "7b5000d2621dbede"
  },
  {
   "cell_type": "code",
   "outputs": [],
   "source": [
    "c.to_pdb(\"tyk2_lig_ejm_54.pdb\")"
   ],
   "metadata": {
    "collapsed": false
   },
   "id": "f69b6023d767f06f",
   "execution_count": null
  }
 ],
 "metadata": {
  "kernelspec": {
   "display_name": "Python 3",
   "language": "python",
   "name": "python3"
  },
  "language_info": {
   "codemirror_mode": {
    "name": "ipython",
    "version": 2
   },
   "file_extension": ".py",
   "mimetype": "text/x-python",
   "name": "python",
   "nbconvert_exporter": "python",
   "pygments_lexer": "ipython2",
   "version": "2.7.6"
  }
 },
 "nbformat": 4,
 "nbformat_minor": 5
}
