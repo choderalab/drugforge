{
 "cells": [
  {
   "cell_type": "markdown",
   "metadata": {},
   "source": [
    "# Protein Preparation Tutorial\n",
    "\n",
    "This notebook demonstrates how to prepare protein structures for molecular docking using the drugforge toolkit."
   ],
   "id": "af9b46d83b9840ed"
  },
  {
   "cell_type": "markdown",
   "metadata": {},
   "source": [
    "## Setup\n",
    "\n",
    "First, let's import the necessary modules"
   ],
   "id": "952f2951947c0a34"
  },
  {
   "cell_type": "code",
   "execution_count": null,
   "metadata": {},
   "source": [
    "from drugforge.data.testing.test_resources import fetch_test_file\n",
    "from drugforge.data.schema.complex import Complex\n",
    "from drugforge.modeling.schema import PreppedComplex\n",
    "from drugforge.modeling.protein_prep import ProteinPrepper"
   ],
   "id": "6b76784c9a777946",
   "outputs": []
  },
  {
   "cell_type": "markdown",
   "source": [
    "Next we setup the example data"
   ],
   "metadata": {
    "collapsed": false
   },
   "id": "593bdd6b3bf36afb"
  },
  {
   "cell_type": "code",
   "outputs": [],
   "source": [
    "complex_pdb = Complex.from_pdb(\n",
    "        fetch_test_file(\"structure_dir/Mpro-x0354_0A_bound.pdb\"),\n",
    "        target_kwargs={\"target_name\": \"test\"},\n",
    "        ligand_kwargs={\"compound_name\": \"test2\"},\n",
    "    )"
   ],
   "metadata": {
    "collapsed": false
   },
   "id": "cd23ea2569b622f8",
   "execution_count": null
  },
  {
   "cell_type": "markdown",
   "source": [
    "Let's examine it"
   ],
   "metadata": {
    "collapsed": false
   },
   "id": "63e9a22024d2281d"
  },
  {
   "cell_type": "code",
   "outputs": [],
   "source": [
    "complex_pdb.target"
   ],
   "metadata": {
    "collapsed": false
   },
   "id": "cb294ca3e9254ffe",
   "execution_count": null
  },
  {
   "cell_type": "code",
   "outputs": [],
   "source": [
    "complex_pdb.ligand.to_rdkit()"
   ],
   "metadata": {
    "collapsed": false
   },
   "id": "4950a305f3e2efb",
   "execution_count": null
  },
  {
   "cell_type": "markdown",
   "source": [
    "# Now we prep the protein using OpenEye"
   ],
   "metadata": {
    "collapsed": false
   },
   "id": "9f38c8fe9664f6a"
  },
  {
   "cell_type": "code",
   "outputs": [],
   "source": [
    "# this is used by OpenEye to fill in any missing loops\n",
    "loop_db = fetch_test_file(\"fragalysis-mpro_spruce.loop_db\")\n",
    "target = \"SARS-CoV-2\""
   ],
   "metadata": {
    "collapsed": false
   },
   "id": "7c14dfe61dff64c7",
   "execution_count": null
  },
  {
   "cell_type": "code",
   "outputs": [],
   "source": [
    "# this will take ~30 seconds\n",
    "prepper = ProteinPrepper(loop_db=loop_db)\n",
    "pcs = prepper.prep([complex_pdb], use_dask=False)"
   ],
   "metadata": {
    "collapsed": false
   },
   "id": "5387202a6d6bcf35",
   "execution_count": null
  },
  {
   "cell_type": "code",
   "outputs": [],
   "source": [
    "prepped_complex = pcs[0]"
   ],
   "metadata": {
    "collapsed": false
   },
   "id": "43605e4e8bb5aaf",
   "execution_count": null
  },
  {
   "cell_type": "code",
   "outputs": [],
   "source": [
    "prepped_complex"
   ],
   "metadata": {
    "collapsed": false
   },
   "id": "74434bbd8ccec69d",
   "execution_count": null
  },
  {
   "cell_type": "markdown",
   "source": [
    "Since we used the OpenEye prepper, we'll get a result that is basically a wrapper around the OpenEye design unit object. We can get the DesignUnit directly with:"
   ],
   "metadata": {
    "collapsed": false
   },
   "id": "ee780d8e449402db"
  },
  {
   "cell_type": "code",
   "outputs": [],
   "source": [
    "du = prepped_complex.target.to_oedu()\n",
    "print(du.HasReceptor())\n",
    "print(du.HasLigand())"
   ],
   "metadata": {
    "collapsed": false
   },
   "id": "fcd8df98a7c589b",
   "execution_count": null
  },
  {
   "cell_type": "markdown",
   "source": [
    "We can save the pdb, design unit, and ligand sdfs."
   ],
   "metadata": {
    "collapsed": false
   },
   "id": "a794200c0f310a97"
  },
  {
   "cell_type": "code",
   "outputs": [],
   "source": [
    "prepped_complex.target.to_oedu_file(\"test_prepped_complex.oedu\")"
   ],
   "metadata": {
    "collapsed": false
   },
   "id": "22a9bc57654f510",
   "execution_count": null
  },
  {
   "cell_type": "code",
   "outputs": [],
   "source": [
    "prepped_complex.target.to_pdb_file(\"test_prepped_complex.pdb\")"
   ],
   "metadata": {
    "collapsed": false
   },
   "id": "8c8d3cd90f26edb3",
   "execution_count": null
  },
  {
   "cell_type": "code",
   "outputs": [],
   "source": [
    "prepped_complex.ligand.to_sdf(\"test_prepped_complex.sdf\")"
   ],
   "metadata": {
    "collapsed": false
   },
   "id": "bc95cac09a7098",
   "execution_count": null
  },
  {
   "cell_type": "markdown",
   "source": [
    "We can serialize this whole object as a json as well! "
   ],
   "metadata": {
    "collapsed": false
   },
   "id": "a8118f006c672468"
  },
  {
   "cell_type": "code",
   "outputs": [],
   "source": [
    "prepped_complex.to_json_file(\"test_prepped_complex.json\")"
   ],
   "metadata": {
    "collapsed": false
   },
   "id": "951d839280dfe49f",
   "execution_count": null
  },
  {
   "cell_type": "code",
   "outputs": [],
   "source": [
    "loaded = PreppedComplex.from_json_file(\"test_prepped_complex.json\")"
   ],
   "metadata": {
    "collapsed": false
   },
   "id": "17a0c83952eee7d9",
   "execution_count": null
  },
  {
   "cell_type": "code",
   "outputs": [],
   "source": [
    "loaded == prepped_complex"
   ],
   "metadata": {
    "collapsed": false
   },
   "id": "d28eb0ea543835d1",
   "execution_count": null
  },
  {
   "cell_type": "markdown",
   "source": [
    "# Other Utilities"
   ],
   "metadata": {
    "collapsed": false
   },
   "id": "826ee3af1b82c832"
  },
  {
   "cell_type": "markdown",
   "source": [
    "While the whole protein prep workflow is in `drugforge.workflows.prep_workflows`, the majority of the functionality is in `drugforge.modeling`. "
   ],
   "metadata": {
    "collapsed": false
   },
   "id": "3a8d0aee6b106e04"
  },
  {
   "cell_type": "markdown",
   "source": [
    "Currently we've just implemented the default OpenEye protein prepper (used above), and the LigandTransferProteinPrepper, which creates a new prepped complex by transfering the ligand from an existing complex to an apo structure. This was useful for us in particular for generating complexes with, i.e. MERS bound to Ligand A, when we only had SARS-CoV-2 bound to ligand A. "
   ],
   "metadata": {
    "collapsed": false
   },
   "id": "8533953b79690b98"
  },
  {
   "cell_type": "code",
   "outputs": [],
   "source": [],
   "metadata": {
    "collapsed": false
   },
   "id": "eab938680914e46b"
  }
 ],
 "metadata": {
  "kernelspec": {
   "display_name": "Python 3",
   "language": "python",
   "name": "python3"
  }
 },
 "nbformat": 4,
 "nbformat_minor": 5
}
