{
 "cells": [
  {
   "cell_type": "markdown",
   "id": "af9b46d83b9840ed",
   "metadata": {},
   "source": [
    "# Protein Preparation Tutorial\n",
    "\n",
    "This notebook demonstrates how to prepare protein structures for molecular docking using the drugforge toolkit."
   ]
  },
  {
   "cell_type": "markdown",
   "id": "952f2951947c0a34",
   "metadata": {},
   "source": [
    "## Setup\n",
    "\n",
    "First, let's import the necessary modules"
   ]
  },
  {
   "cell_type": "code",
   "execution_count": 1,
   "id": "6b76784c9a777946",
   "metadata": {},
   "outputs": [],
   "source": [
    "from drugforge.data.testing.test_resources import fetch_test_file\n",
    "from drugforge.data.schema.complex import Complex\n",
    "from drugforge.modeling.schema import PreppedComplex\n",
    "from drugforge.modeling.protein_prep import ProteinPrepper"
   ]
  },
  {
   "cell_type": "markdown",
   "id": "593bdd6b3bf36afb",
   "metadata": {
    "collapsed": false,
    "jupyter": {
     "outputs_hidden": false
    }
   },
   "source": [
    "Next we setup the example data"
   ]
  },
  {
   "cell_type": "code",
   "execution_count": 2,
   "id": "cd23ea2569b622f8",
   "metadata": {
    "collapsed": false,
    "jupyter": {
     "outputs_hidden": false
    }
   },
   "outputs": [],
   "source": [
    "complex_pdb = Complex.from_pdb(\n",
    "        fetch_test_file(\"structure_dir/Mpro-x0354_0A_bound.pdb\"),\n",
    "        target_kwargs={\"target_name\": \"test\"},\n",
    "        ligand_kwargs={\"compound_name\": \"test2\"},\n",
    "    )"
   ]
  },
  {
   "cell_type": "markdown",
   "id": "63e9a22024d2281d",
   "metadata": {
    "collapsed": false,
    "jupyter": {
     "outputs_hidden": false
    }
   },
   "source": [
    "Let's examine it"
   ]
  },
  {
   "cell_type": "code",
   "execution_count": 3,
   "id": "cb294ca3e9254ffe",
   "metadata": {
    "collapsed": false,
    "jupyter": {
     "outputs_hidden": false
    }
   },
   "outputs": [
    {
     "data": {
      "text/plain": [
       "Target(target_name='test', ids=None, data_format=<DataStorageType.pdb: 'pdb'>)"
      ]
     },
     "execution_count": 3,
     "metadata": {},
     "output_type": "execute_result"
    }
   ],
   "source": [
    "complex_pdb.target"
   ]
  },
  {
   "cell_type": "code",
   "execution_count": 4,
   "id": "4950a305f3e2efb",
   "metadata": {
    "collapsed": false,
    "jupyter": {
     "outputs_hidden": false
    }
   },
   "outputs": [
    {
     "data": {
      "image/png": "[encoded data removed]",
      "text/html": [
       "<table><tr><td colspan=\"2\" style=\"text-align: center;\"><image src=\"data:image/png;base64,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\"></td></tr>\n",
       "<tr><th style=\"text-align: right\">compound_name</th><td style=\"text-align: left\">test2</td></tr>\n",
       "<tr><th style=\"text-align: right\">provenance</th><td style=\"text-align: left\">{&quot;isomeric_smiles&quot;: &quot;Cc1ccc(cc1)OCC(=O)N2CC[NH+](CC2)C&quot;, &quot;inchi&quot;: &quot;InChI=1S/C14H20N2O2/c1-12-3-5-13(6-4-12)18-11-14(17)16-9-7-15(2)8-10-16/h3-6H,7-11H2,1-2H3/p+1&quot;, &quot;inchi_key&quot;: &quot;GIIIJZOPGUFGBF-UHFFFAOYSA-O&quot;, &quot;fixed_inchi&quot;: &quot;InChI=1/C14H20N2O2/c1-12-3-5-13(6-4-12)18-11-14(17)16-9-7-15(2)8-10-16/h3-6H,7-11H2,1-2H3/p+1/fC14H21N2O2/h15H/q+1&quot;, &quot;fixed_inchikey&quot;: &quot;GIIIJZOPGUFGBF-QXYFZJGFNA-O&quot;}</td></tr>\n",
       "<tr><th style=\"text-align: right\">data_format</th><td style=\"text-align: left\">sdf</td></tr></table>"
      ],
      "text/plain": [
       "<rdkit.Chem.rdchem.Mol at 0x7ec2742cb4c0>"
      ]
     },
     "execution_count": 4,
     "metadata": {},
     "output_type": "execute_result"
    }
   ],
   "source": [
    "complex_pdb.ligand.to_rdkit()"
   ]
  },
  {
   "cell_type": "markdown",
   "id": "9f38c8fe9664f6a",
   "metadata": {
    "collapsed": false,
    "jupyter": {
     "outputs_hidden": false
    }
   },
   "source": [
    "# Now we prep the protein using OpenEye"
   ]
  },
  {
   "cell_type": "code",
   "execution_count": 5,
   "id": "7c14dfe61dff64c7",
   "metadata": {
    "collapsed": false,
    "jupyter": {
     "outputs_hidden": false
    }
   },
   "outputs": [],
   "source": [
    "# this is used by OpenEye to fill in any missing loops\n",
    "loop_db = fetch_test_file(\"fragalysis-mpro_spruce.loop_db\")\n",
    "target = \"SARS-CoV-2\""
   ]
  },
  {
   "cell_type": "code",
   "execution_count": 6,
   "id": "5387202a6d6bcf35",
   "metadata": {
    "collapsed": false,
    "jupyter": {
     "outputs_hidden": false
    }
   },
   "outputs": [
    {
     "name": "stdout",
     "output_type": "stream",
     "text": [
      "Adding loop db\n"
     ]
    },
    {
     "name": "stderr",
     "output_type": "stream",
     "text": [
      "No BioAssembly transforms found, using input molecule as biounit: _chainA._chainB_LIG\n",
      "Processing BU # 1 with title: _chainA._chainB_LIG, chains AB\n"
     ]
    }
   ],
   "source": [
    "# this will take ~30 seconds\n",
    "prepper = ProteinPrepper(loop_db=loop_db)\n",
    "pcs = prepper.prep([complex_pdb], use_dask=False)"
   ]
  },
  {
   "cell_type": "code",
   "execution_count": 7,
   "id": "43605e4e8bb5aaf",
   "metadata": {
    "collapsed": false,
    "jupyter": {
     "outputs_hidden": false
    }
   },
   "outputs": [],
   "source": [
    "prepped_complex = pcs[0]"
   ]
  },
  {
   "cell_type": "code",
   "execution_count": 8,
   "id": "74434bbd8ccec69d",
   "metadata": {
    "collapsed": false,
    "jupyter": {
     "outputs_hidden": false
    }
   },
   "outputs": [
    {
     "data": {
      "text/plain": [
       "PreppedComplex(target=PreppedTarget(target_name='test', ids=None, data_format=<DataStorageType.b64oedu: 'b64oedu'>, target_hash='9e2ea19d1a175314647dacb9d878138a80b8443cff5faf56031bf4af61179a0a', crystal_symmetry=None), ligand=Ligand(compound_name='test2', ids=None, provenance=LigandProvenance(isomeric_smiles='Cc1ccc(cc1)OCC(=O)N2CC[NH+](CC2)C', inchi='InChI=1S/C14H20N2O2/c1-12-3-5-13(6-4-12)18-11-14(17)16-9-7-15(2)8-10-16/h3-6H,7-11H2,1-2H3/p+1', inchi_key='GIIIJZOPGUFGBF-UHFFFAOYSA-O', fixed_inchi='InChI=1/C14H20N2O2/c1-12-3-5-13(6-4-12)18-11-14(17)16-9-7-15(2)8-10-16/h3-6H,7-11H2,1-2H3/p+1/fC14H21N2O2/h15H/q+1', fixed_inchikey='GIIIJZOPGUFGBF-QXYFZJGFNA-O'), experimental_data=None, expansion_tag=None, charge_provenance=None, bespoke_parameters=None, tags={}, conf_tags={}, data_format=<DataStorageType.sdf: 'sdf'>))"
      ]
     },
     "execution_count": 8,
     "metadata": {},
     "output_type": "execute_result"
    }
   ],
   "source": [
    "prepped_complex"
   ]
  },
  {
   "cell_type": "markdown",
   "id": "ee780d8e449402db",
   "metadata": {
    "collapsed": false,
    "jupyter": {
     "outputs_hidden": false
    }
   },
   "source": [
    "Since we used the OpenEye prepper, we'll get a result that is basically a wrapper around the OpenEye design unit object. We can get the DesignUnit directly with:"
   ]
  },
  {
   "cell_type": "code",
   "execution_count": 9,
   "id": "fcd8df98a7c589b",
   "metadata": {
    "collapsed": false,
    "jupyter": {
     "outputs_hidden": false
    }
   },
   "outputs": [
    {
     "name": "stdout",
     "output_type": "stream",
     "text": [
      "True\n",
      "True\n"
     ]
    }
   ],
   "source": [
    "du = prepped_complex.target.to_oedu()\n",
    "print(du.HasReceptor())\n",
    "print(du.HasLigand())"
   ]
  },
  {
   "cell_type": "markdown",
   "id": "a794200c0f310a97",
   "metadata": {
    "collapsed": false,
    "jupyter": {
     "outputs_hidden": false
    }
   },
   "source": [
    "We can save the pdb, design unit, and ligand sdfs."
   ]
  },
  {
   "cell_type": "code",
   "execution_count": 10,
   "id": "22a9bc57654f510",
   "metadata": {
    "collapsed": false,
    "jupyter": {
     "outputs_hidden": false
    }
   },
   "outputs": [],
   "source": [
    "prepped_complex.target.to_oedu_file(\"test_prepped_complex.oedu\")"
   ]
  },
  {
   "cell_type": "code",
   "execution_count": 11,
   "id": "8c8d3cd90f26edb3",
   "metadata": {
    "collapsed": false,
    "jupyter": {
     "outputs_hidden": false
    }
   },
   "outputs": [],
   "source": [
    "prepped_complex.target.to_pdb_file(\"test_prepped_complex.pdb\")"
   ]
  },
  {
   "cell_type": "code",
   "execution_count": 12,
   "id": "bc95cac09a7098",
   "metadata": {
    "collapsed": false,
    "jupyter": {
     "outputs_hidden": false
    }
   },
   "outputs": [],
   "source": [
    "prepped_complex.ligand.to_sdf(\"test_prepped_complex.sdf\")"
   ]
  },
  {
   "cell_type": "markdown",
   "id": "a8118f006c672468",
   "metadata": {
    "collapsed": false,
    "jupyter": {
     "outputs_hidden": false
    }
   },
   "source": [
    "We can serialize this whole object as a json as well! "
   ]
  },
  {
   "cell_type": "code",
   "execution_count": 13,
   "id": "951d839280dfe49f",
   "metadata": {
    "collapsed": false,
    "jupyter": {
     "outputs_hidden": false
    }
   },
   "outputs": [],
   "source": [
    "prepped_complex.to_json_file(\"test_prepped_complex.json\")"
   ]
  },
  {
   "cell_type": "code",
   "execution_count": 14,
   "id": "17a0c83952eee7d9",
   "metadata": {
    "collapsed": false,
    "jupyter": {
     "outputs_hidden": false
    }
   },
   "outputs": [],
   "source": [
    "loaded = PreppedComplex.from_json_file(\"test_prepped_complex.json\")"
   ]
  },
  {
   "cell_type": "code",
   "execution_count": 15,
   "id": "d28eb0ea543835d1",
   "metadata": {
    "collapsed": false,
    "jupyter": {
     "outputs_hidden": false
    }
   },
   "outputs": [
    {
     "data": {
      "text/plain": [
       "True"
      ]
     },
     "execution_count": 15,
     "metadata": {},
     "output_type": "execute_result"
    }
   ],
   "source": [
    "loaded == prepped_complex"
   ]
  },
  {
   "cell_type": "markdown",
   "id": "826ee3af1b82c832",
   "metadata": {
    "collapsed": false,
    "jupyter": {
     "outputs_hidden": false
    }
   },
   "source": [
    "# Other Utilities"
   ]
  },
  {
   "cell_type": "markdown",
   "id": "3a8d0aee6b106e04",
   "metadata": {
    "collapsed": false,
    "jupyter": {
     "outputs_hidden": false
    }
   },
   "source": [
    "While the whole protein prep workflow is in `drugforge.workflows.prep_workflows`, the majority of the functionality is in `drugforge.modeling`. "
   ]
  },
  {
   "cell_type": "markdown",
   "id": "8533953b79690b98",
   "metadata": {
    "collapsed": false,
    "jupyter": {
     "outputs_hidden": false
    }
   },
   "source": [
    "Currently we've just implemented the default OpenEye protein prepper (used above), and the LigandTransferProteinPrepper, which creates a new prepped complex by transfering the ligand from an existing complex to an apo structure. This was useful for us in particular for generating complexes with, i.e. MERS bound to Ligand A, when we only had SARS-CoV-2 bound to ligand A. "
   ]
  }
 ],
 "metadata": {
  "kernelspec": {
   "display_name": "Python 3 (ipykernel)",
   "language": "python",
   "name": "python3"
  },
  "language_info": {
   "codemirror_mode": {
    "name": "ipython",
    "version": 3
   },
   "file_extension": ".py",
   "mimetype": "text/x-python",
   "name": "python",
   "nbconvert_exporter": "python",
   "pygments_lexer": "ipython3",
   "version": "3.11.11"
  }
 },
 "nbformat": 4,
 "nbformat_minor": 5
}
